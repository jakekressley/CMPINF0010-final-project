{
 "cells": [
  {
   "cell_type": "markdown",
   "metadata": {},
   "source": [
    "# Speed Bumps by Neighborhood"
   ]
  },
  {
   "cell_type": "markdown",
   "metadata": {},
   "source": [
    "### By: Jake Kressley"
   ]
  },
  {
   "cell_type": "markdown",
   "metadata": {},
   "source": [
    "To start let's load in the neighborhood data."
   ]
  },
  {
   "cell_type": "code",
   "execution_count": 1,
   "metadata": {},
   "outputs": [
    {
     "data": {
      "text/html": [
       "<div>\n",
       "<style scoped>\n",
       "    .dataframe tbody tr th:only-of-type {\n",
       "        vertical-align: middle;\n",
       "    }\n",
       "\n",
       "    .dataframe tbody tr th {\n",
       "        vertical-align: top;\n",
       "    }\n",
       "\n",
       "    .dataframe thead th {\n",
       "        text-align: right;\n",
       "    }\n",
       "</style>\n",
       "<table border=\"1\" class=\"dataframe\">\n",
       "  <thead>\n",
       "    <tr style=\"text-align: right;\">\n",
       "      <th></th>\n",
       "      <th>OBJECTID</th>\n",
       "      <th>fid_blockg</th>\n",
       "      <th>statefp10</th>\n",
       "      <th>countyfp10</th>\n",
       "      <th>tractce10</th>\n",
       "      <th>blkgrpce10</th>\n",
       "      <th>geoid10</th>\n",
       "      <th>namelsad10</th>\n",
       "      <th>mtfcc10</th>\n",
       "      <th>funcstat10</th>\n",
       "      <th>...</th>\n",
       "      <th>created_us</th>\n",
       "      <th>created_da</th>\n",
       "      <th>last_edite</th>\n",
       "      <th>last_edi_1</th>\n",
       "      <th>temp</th>\n",
       "      <th>pghdb_sde_</th>\n",
       "      <th>GlobalID</th>\n",
       "      <th>Shape__Are</th>\n",
       "      <th>Shape__Len</th>\n",
       "      <th>geometry</th>\n",
       "    </tr>\n",
       "  </thead>\n",
       "  <tbody>\n",
       "    <tr>\n",
       "      <th>0</th>\n",
       "      <td>1</td>\n",
       "      <td>233</td>\n",
       "      <td>42</td>\n",
       "      <td>003</td>\n",
       "      <td>140500</td>\n",
       "      <td>3</td>\n",
       "      <td>420031405003</td>\n",
       "      <td>Block Group 3</td>\n",
       "      <td>G5030</td>\n",
       "      <td>S</td>\n",
       "      <td>...</td>\n",
       "      <td>SDE</td>\n",
       "      <td>2020-08-14</td>\n",
       "      <td>SDE</td>\n",
       "      <td>2020-08-14</td>\n",
       "      <td>None</td>\n",
       "      <td>7968760.0</td>\n",
       "      <td>a642a6b6-a2a9-48d5-acf2-3e2ce87d4bc0</td>\n",
       "      <td>8.153647e+06</td>\n",
       "      <td>14047.065024</td>\n",
       "      <td>POLYGON ((-79.90560 40.45522, -79.90553 40.455...</td>\n",
       "    </tr>\n",
       "    <tr>\n",
       "      <th>1</th>\n",
       "      <td>2</td>\n",
       "      <td>203</td>\n",
       "      <td>42</td>\n",
       "      <td>003</td>\n",
       "      <td>140100</td>\n",
       "      <td>3</td>\n",
       "      <td>420031401003</td>\n",
       "      <td>Block Group 3</td>\n",
       "      <td>G5030</td>\n",
       "      <td>S</td>\n",
       "      <td>...</td>\n",
       "      <td>SDE</td>\n",
       "      <td>2020-08-14</td>\n",
       "      <td>SDE</td>\n",
       "      <td>2020-08-14</td>\n",
       "      <td>None</td>\n",
       "      <td>34078712.0</td>\n",
       "      <td>20d4605b-258e-441a-a57e-a28fdabb6d30</td>\n",
       "      <td>3.407739e+07</td>\n",
       "      <td>30347.886823</td>\n",
       "      <td>POLYGON ((-79.91309 40.43804, -79.91321 40.438...</td>\n",
       "    </tr>\n",
       "    <tr>\n",
       "      <th>2</th>\n",
       "      <td>3</td>\n",
       "      <td>86</td>\n",
       "      <td>42</td>\n",
       "      <td>003</td>\n",
       "      <td>101700</td>\n",
       "      <td>2</td>\n",
       "      <td>420031017002</td>\n",
       "      <td>Block Group 2</td>\n",
       "      <td>G5030</td>\n",
       "      <td>S</td>\n",
       "      <td>...</td>\n",
       "      <td>SDE</td>\n",
       "      <td>2020-08-14</td>\n",
       "      <td>SDE</td>\n",
       "      <td>2020-08-14</td>\n",
       "      <td>None</td>\n",
       "      <td>12751163.0</td>\n",
       "      <td>bf4065e7-c29c-48bd-b529-e7fd99077238</td>\n",
       "      <td>1.275116e+07</td>\n",
       "      <td>14577.441571</td>\n",
       "      <td>POLYGON ((-79.93457 40.47217, -79.93455 40.472...</td>\n",
       "    </tr>\n",
       "  </tbody>\n",
       "</table>\n",
       "<p>3 rows × 40 columns</p>\n",
       "</div>"
      ],
      "text/plain": [
       "   OBJECTID  fid_blockg statefp10 countyfp10 tractce10 blkgrpce10  \\\n",
       "0         1         233        42        003    140500          3   \n",
       "1         2         203        42        003    140100          3   \n",
       "2         3          86        42        003    101700          2   \n",
       "\n",
       "        geoid10     namelsad10 mtfcc10 funcstat10  ...  created_us  \\\n",
       "0  420031405003  Block Group 3   G5030          S  ...         SDE   \n",
       "1  420031401003  Block Group 3   G5030          S  ...         SDE   \n",
       "2  420031017002  Block Group 2   G5030          S  ...         SDE   \n",
       "\n",
       "   created_da last_edite  last_edi_1  temp  pghdb_sde_  \\\n",
       "0  2020-08-14        SDE  2020-08-14  None   7968760.0   \n",
       "1  2020-08-14        SDE  2020-08-14  None  34078712.0   \n",
       "2  2020-08-14        SDE  2020-08-14  None  12751163.0   \n",
       "\n",
       "                               GlobalID    Shape__Are    Shape__Len  \\\n",
       "0  a642a6b6-a2a9-48d5-acf2-3e2ce87d4bc0  8.153647e+06  14047.065024   \n",
       "1  20d4605b-258e-441a-a57e-a28fdabb6d30  3.407739e+07  30347.886823   \n",
       "2  bf4065e7-c29c-48bd-b529-e7fd99077238  1.275116e+07  14577.441571   \n",
       "\n",
       "                                            geometry  \n",
       "0  POLYGON ((-79.90560 40.45522, -79.90553 40.455...  \n",
       "1  POLYGON ((-79.91309 40.43804, -79.91321 40.438...  \n",
       "2  POLYGON ((-79.93457 40.47217, -79.93455 40.472...  \n",
       "\n",
       "[3 rows x 40 columns]"
      ]
     },
     "execution_count": 1,
     "metadata": {},
     "output_type": "execute_result"
    }
   ],
   "source": [
    "import geopandas as gpd\n",
    "import pandas as pd\n",
    "\n",
    "neighborhoods_df = gpd.read_file('data/pittsburghpaneighborhoods-/Neighborhoods_.shp')\n",
    "neighborhoods_df.head(3)"
   ]
  },
  {
   "cell_type": "markdown",
   "metadata": {},
   "source": [
    "To view the columns we want we can make a new dataframe that displays just those columns."
   ]
  },
  {
   "cell_type": "code",
   "execution_count": 6,
   "metadata": {},
   "outputs": [
    {
     "data": {
      "text/html": [
       "<div>\n",
       "<style scoped>\n",
       "    .dataframe tbody tr th:only-of-type {\n",
       "        vertical-align: middle;\n",
       "    }\n",
       "\n",
       "    .dataframe tbody tr th {\n",
       "        vertical-align: top;\n",
       "    }\n",
       "\n",
       "    .dataframe thead th {\n",
       "        text-align: right;\n",
       "    }\n",
       "</style>\n",
       "<table border=\"1\" class=\"dataframe\">\n",
       "  <thead>\n",
       "    <tr style=\"text-align: right;\">\n",
       "      <th></th>\n",
       "      <th>Neighborhood</th>\n",
       "      <th>Geometry</th>\n",
       "    </tr>\n",
       "  </thead>\n",
       "  <tbody>\n",
       "    <tr>\n",
       "      <th>0</th>\n",
       "      <td>Point Breeze North</td>\n",
       "      <td>POLYGON ((-79.90560 40.45522, -79.90553 40.455...</td>\n",
       "    </tr>\n",
       "    <tr>\n",
       "      <th>1</th>\n",
       "      <td>Squirrel Hill North</td>\n",
       "      <td>POLYGON ((-79.91309 40.43804, -79.91321 40.438...</td>\n",
       "    </tr>\n",
       "    <tr>\n",
       "      <th>2</th>\n",
       "      <td>Garfield</td>\n",
       "      <td>POLYGON ((-79.93457 40.47217, -79.93455 40.472...</td>\n",
       "    </tr>\n",
       "  </tbody>\n",
       "</table>\n",
       "</div>"
      ],
      "text/plain": [
       "          Neighborhood                                           Geometry\n",
       "0   Point Breeze North  POLYGON ((-79.90560 40.45522, -79.90553 40.455...\n",
       "1  Squirrel Hill North  POLYGON ((-79.91309 40.43804, -79.91321 40.438...\n",
       "2             Garfield  POLYGON ((-79.93457 40.47217, -79.93455 40.472..."
      ]
     },
     "execution_count": 6,
     "metadata": {},
     "output_type": "execute_result"
    }
   ],
   "source": [
    "neighborhoods = pd.DataFrame(columns = [\"Neighborhood\", \"Geometry\"])\n",
    "neighborhoods[\"Neighborhood\"] = neighborhoods_df[\"hood\"]\n",
    "neighborhoods[\"Geometry\"] = neighborhoods_df[\"geometry\"]\n",
    "\n",
    "neighborhoods.head(3)"
   ]
  },
  {
   "cell_type": "code",
   "execution_count": null,
   "metadata": {},
   "outputs": [],
   "source": []
  }
 ],
 "metadata": {
  "kernelspec": {
   "display_name": "Python 3",
   "language": "python",
   "name": "python3"
  },
  "language_info": {
   "codemirror_mode": {
    "name": "ipython",
    "version": 3
   },
   "file_extension": ".py",
   "mimetype": "text/x-python",
   "name": "python",
   "nbconvert_exporter": "python",
   "pygments_lexer": "ipython3",
   "version": "3.8.3"
  }
 },
 "nbformat": 4,
 "nbformat_minor": 4
}
