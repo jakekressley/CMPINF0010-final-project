{
 "cells": [
  {
   "cell_type": "markdown",
   "metadata": {},
   "source": [
    "# Traffic Count and Safety of Neighborhoods in Pittsburgh\n",
    "## First we have to import pandas. Then we import the data in from the csv file."
   ]
  },
  {
   "cell_type": "code",
   "execution_count": 4,
   "metadata": {},
   "outputs": [
    {
     "name": "stdout",
     "output_type": "stream",
     "text": [
      "             id  device_id    record_oid count_start_date count_end_date  \\\n",
      "0    1011743669         85  1.445865e+09       2019-04-18     2019-04-26   \n",
      "1    1026101993        140  1.121444e+09       2019-01-24            NaN   \n",
      "2    1032382575         11  1.539893e+09       2018-08-28     2018-09-04   \n",
      "3     103627606          9  7.341951e+08       2018-07-17     2018-08-01   \n",
      "4    1039546167        144           NaN              NaN            NaN   \n",
      "..          ...        ...           ...              ...            ...   \n",
      "415  1132416719        434           NaN              NaN            NaN   \n",
      "416  1037219067        435           NaN              NaN            NaN   \n",
      "417  1329604877        436  1.001259e+09       2021-07-21            NaN   \n",
      "418   704127706        437  1.832664e+09       2021-07-21            NaN   \n",
      "419  1814538648        438  1.741899e+09       2021-07-21            NaN   \n",
      "\n",
      "     average_daily_car_traffic  average_daily_bike_traffic counter_number  \\\n",
      "0                       4949.0                         NaN              6   \n",
      "1                          NaN                         NaN            NaN   \n",
      "2                          NaN                         NaN            NaN   \n",
      "3                       2741.0                         NaN            NaN   \n",
      "4                          NaN                         NaN            NaN   \n",
      "..                         ...                         ...            ...   \n",
      "415                        NaN                         NaN            NaN   \n",
      "416                        NaN                         NaN            NaN   \n",
      "417                        NaN                         NaN              2   \n",
      "418                        NaN                         NaN              3   \n",
      "419                        NaN                         NaN              4   \n",
      "\n",
      "           counter_type  speed_limit  ...  longitude   latitude  \\\n",
      "0              StatTrak         25.0  ... -79.967772  40.455733   \n",
      "1    Intersection Study          NaN  ... -79.952249  40.466157   \n",
      "2                   NaN         35.0  ... -80.076469  40.460717   \n",
      "3              StatTrak         25.0  ... -79.914335  40.437379   \n",
      "4                   NaN          NaN  ... -80.019211  40.490794   \n",
      "..                  ...          ...  ...        ...        ...   \n",
      "415                 NaN          NaN  ... -80.009074  40.497196   \n",
      "416                 NaN          NaN  ... -80.037771  40.482557   \n",
      "417            StatTrak         25.0  ... -79.960380  40.455057   \n",
      "418            StatTrak         25.0  ... -79.966774  40.450147   \n",
      "419            StatTrak         25.0  ... -79.980651  40.440826   \n",
      "\n",
      "              neighborhood  council_district  ward        tract  \\\n",
      "0              Polish Hill               7.0   6.0  42003060500   \n",
      "1    Central Lawrenceville               7.0   9.0  42003090200   \n",
      "2                  Windgap               2.0  28.0  42003563000   \n",
      "3      Squirrel Hill South               5.0  14.0  42003140800   \n",
      "4              Perry North               1.0  26.0  42003260200   \n",
      "..                     ...               ...   ...          ...   \n",
      "415            Summer Hill               1.0  26.0  42003261200   \n",
      "416       Brighton Heights               1.0  27.0  42003270100   \n",
      "417             Upper Hill               6.0   5.0  42003050600   \n",
      "418            Middle Hill               6.0   5.0  42003050100   \n",
      "419       Crawford-Roberts               6.0   3.0  42003030500   \n",
      "\n",
      "     public_works_division pli_division  police_zone  fire_zone  \n",
      "0                      6.0          6.0          2.0        2-6  \n",
      "1                      2.0          9.0          2.0        3-6  \n",
      "2                      5.0         28.0          6.0       1-16  \n",
      "3                      3.0         14.0          4.0       2-18  \n",
      "4                      1.0         26.0          1.0       1-15  \n",
      "..                     ...          ...          ...        ...  \n",
      "415                    1.0         26.0          1.0       1-15  \n",
      "416                    1.0         27.0          1.0       1-14  \n",
      "417                    3.0          5.0          2.0       2-22  \n",
      "418                    3.0          5.0          2.0        2-5  \n",
      "419                    3.0          3.0          2.0        2-1  \n",
      "\n",
      "[420 rows x 25 columns]\n"
     ]
    }
   ],
   "source": [
    "import pandas as pd\n",
    "df=pd.read_csv(\"TrafficCount.csv\")\n",
    "print(df)"
   ]
  },
  {
   "cell_type": "markdown",
   "metadata": {},
   "source": [
    "\n",
    "\n",
    "## This is too much data to look through to find what we need. We are trying to calculate the amount of traffic, and the safety on the road, by neighborhoods.\n",
    "\n"
   ]
  },
  {
   "cell_type": "markdown",
   "metadata": {},
   "source": [
    "### First: Amount of Traffic"
   ]
  },
  {
   "cell_type": "markdown",
   "metadata": {},
   "source": [
    "#### Lets only use the average_daily_car_traffic and the neighborhood columns so we can see what neighborhood has the most traffic. We want inplace to be true so the neighborhoods stick with their corresponding data."
   ]
  },
  {
   "cell_type": "code",
   "execution_count": 21,
   "metadata": {},
   "outputs": [
    {
     "data": {
      "text/html": [
       "<div>\n",
       "<style scoped>\n",
       "    .dataframe tbody tr th:only-of-type {\n",
       "        vertical-align: middle;\n",
       "    }\n",
       "\n",
       "    .dataframe tbody tr th {\n",
       "        vertical-align: top;\n",
       "    }\n",
       "\n",
       "    .dataframe thead th {\n",
       "        text-align: right;\n",
       "    }\n",
       "</style>\n",
       "<table border=\"1\" class=\"dataframe\">\n",
       "  <thead>\n",
       "    <tr style=\"text-align: right;\">\n",
       "      <th></th>\n",
       "      <th>average_daily_car_traffic</th>\n",
       "      <th>neighborhood</th>\n",
       "    </tr>\n",
       "  </thead>\n",
       "  <tbody>\n",
       "    <tr>\n",
       "      <th>39</th>\n",
       "      <td>16729.0</td>\n",
       "      <td>Regent Square</td>\n",
       "    </tr>\n",
       "    <tr>\n",
       "      <th>111</th>\n",
       "      <td>16711.0</td>\n",
       "      <td>Strip District</td>\n",
       "    </tr>\n",
       "    <tr>\n",
       "      <th>199</th>\n",
       "      <td>15000.0</td>\n",
       "      <td>Bloomfield</td>\n",
       "    </tr>\n",
       "    <tr>\n",
       "      <th>93</th>\n",
       "      <td>13788.0</td>\n",
       "      <td>East Hills</td>\n",
       "    </tr>\n",
       "    <tr>\n",
       "      <th>37</th>\n",
       "      <td>12335.0</td>\n",
       "      <td>Point Breeze</td>\n",
       "    </tr>\n",
       "    <tr>\n",
       "      <th>14</th>\n",
       "      <td>11500.0</td>\n",
       "      <td>Crafton Heights</td>\n",
       "    </tr>\n",
       "    <tr>\n",
       "      <th>18</th>\n",
       "      <td>10350.0</td>\n",
       "      <td>North Shore</td>\n",
       "    </tr>\n",
       "    <tr>\n",
       "      <th>302</th>\n",
       "      <td>10113.0</td>\n",
       "      <td>Shadyside</td>\n",
       "    </tr>\n",
       "    <tr>\n",
       "      <th>286</th>\n",
       "      <td>10001.0</td>\n",
       "      <td>Squirrel Hill North</td>\n",
       "    </tr>\n",
       "    <tr>\n",
       "      <th>21</th>\n",
       "      <td>9709.0</td>\n",
       "      <td>Brookline</td>\n",
       "    </tr>\n",
       "  </tbody>\n",
       "</table>\n",
       "</div>"
      ],
      "text/plain": [
       "     average_daily_car_traffic         neighborhood\n",
       "39                     16729.0        Regent Square\n",
       "111                    16711.0       Strip District\n",
       "199                    15000.0           Bloomfield\n",
       "93                     13788.0           East Hills\n",
       "37                     12335.0         Point Breeze\n",
       "14                     11500.0      Crafton Heights\n",
       "18                     10350.0          North Shore\n",
       "302                    10113.0            Shadyside\n",
       "286                    10001.0  Squirrel Hill North\n",
       "21                      9709.0            Brookline"
      ]
     },
     "execution_count": 21,
     "metadata": {},
     "output_type": "execute_result"
    }
   ],
   "source": [
    "import pandas as pd\n",
    "import matplotlib.pyplot as plt\n",
    "df=pd.read_csv(\"TrafficCount.csv\",usecols=['average_daily_car_traffic','neighborhood'])\n",
    "df2=df.sort_values(by='average_daily_car_traffic',inplace=True,ascending=False)\n",
    "df.head(10)"
   ]
  },
  {
   "cell_type": "markdown",
   "metadata": {},
   "source": [
    "After sorting the values, we can see the top 10 neighborhoods with the most traffic are Regent Square, Strip District, Bloomfield, East Hills, Point Breeze, Crafton Heights, North Shore, Shadyside, Squirrel Hill North, and Brookline."
   ]
  },
  {
   "cell_type": "code",
   "execution_count": 27,
   "metadata": {},
   "outputs": [
    {
     "data": {
      "image/png": "[encoded data removed]",
      "text/plain": [
       "<Figure size 1080x720 with 1 Axes>"
      ]
     },
     "metadata": {
      "needs_background": "light"
     },
     "output_type": "display_data"
    }
   ],
   "source": [
    "traffic_plt = df.iloc[:30].plot(kind='bar',x='neighborhood',y=\"average_daily_car_traffic\",title=\"Traffic\",color='green',figsize=(15,10))\n",
    "                                    "
   ]
  },
  {
   "cell_type": "markdown",
   "metadata": {},
   "source": [
    "### Next: Safety on the Road\n",
    "#### In this scenario, the most significant value is the percent of drivers who were driving over the speed limit. Again, we need the inplace to be true, and the neighborhood column to actually use the data."
   ]
  },
  {
   "cell_type": "code",
   "execution_count": 34,
   "metadata": {},
   "outputs": [
    {
     "data": {
      "text/html": [
       "<div>\n",
       "<style scoped>\n",
       "    .dataframe tbody tr th:only-of-type {\n",
       "        vertical-align: middle;\n",
       "    }\n",
       "\n",
       "    .dataframe tbody tr th {\n",
       "        vertical-align: top;\n",
       "    }\n",
       "\n",
       "    .dataframe thead th {\n",
       "        text-align: right;\n",
       "    }\n",
       "</style>\n",
       "<table border=\"1\" class=\"dataframe\">\n",
       "  <thead>\n",
       "    <tr style=\"text-align: right;\">\n",
       "      <th></th>\n",
       "      <th>percent_over_limit</th>\n",
       "      <th>neighborhood</th>\n",
       "    </tr>\n",
       "  </thead>\n",
       "  <tbody>\n",
       "    <tr>\n",
       "      <th>93</th>\n",
       "      <td>98.0</td>\n",
       "      <td>East Hills</td>\n",
       "    </tr>\n",
       "    <tr>\n",
       "      <th>70</th>\n",
       "      <td>98.0</td>\n",
       "      <td>Manchester</td>\n",
       "    </tr>\n",
       "    <tr>\n",
       "      <th>14</th>\n",
       "      <td>98.0</td>\n",
       "      <td>Crafton Heights</td>\n",
       "    </tr>\n",
       "    <tr>\n",
       "      <th>370</th>\n",
       "      <td>97.0</td>\n",
       "      <td>Squirrel Hill South</td>\n",
       "    </tr>\n",
       "    <tr>\n",
       "      <th>311</th>\n",
       "      <td>97.0</td>\n",
       "      <td>Manchester</td>\n",
       "    </tr>\n",
       "    <tr>\n",
       "      <th>240</th>\n",
       "      <td>97.0</td>\n",
       "      <td>Squirrel Hill South</td>\n",
       "    </tr>\n",
       "    <tr>\n",
       "      <th>129</th>\n",
       "      <td>97.0</td>\n",
       "      <td>Perry North</td>\n",
       "    </tr>\n",
       "    <tr>\n",
       "      <th>142</th>\n",
       "      <td>97.0</td>\n",
       "      <td>Elliott</td>\n",
       "    </tr>\n",
       "    <tr>\n",
       "      <th>162</th>\n",
       "      <td>97.0</td>\n",
       "      <td>Point Breeze</td>\n",
       "    </tr>\n",
       "    <tr>\n",
       "      <th>41</th>\n",
       "      <td>97.0</td>\n",
       "      <td>East Liberty</td>\n",
       "    </tr>\n",
       "  </tbody>\n",
       "</table>\n",
       "</div>"
      ],
      "text/plain": [
       "     percent_over_limit         neighborhood\n",
       "93                 98.0           East Hills\n",
       "70                 98.0           Manchester\n",
       "14                 98.0      Crafton Heights\n",
       "370                97.0  Squirrel Hill South\n",
       "311                97.0           Manchester\n",
       "240                97.0  Squirrel Hill South\n",
       "129                97.0          Perry North\n",
       "142                97.0              Elliott\n",
       "162                97.0         Point Breeze\n",
       "41                 97.0         East Liberty"
      ]
     },
     "execution_count": 34,
     "metadata": {},
     "output_type": "execute_result"
    }
   ],
   "source": [
    "import pandas as pd\n",
    "import numpy as np\n",
    "df=pd.read_csv(\"TrafficCount.csv\",usecols=['percent_over_limit','neighborhood'])\n",
    "df2=df.sort_values(by='percent_over_limit',inplace=True,ascending=False)\n",
    "df.head(10)"
   ]
  },
  {
   "cell_type": "markdown",
   "metadata": {},
   "source": [
    "After sorting the values, the top 10 highest percentage of over the speed limit drivers were East Hills, Manchester, Crafton Heights, Perry North, Point Breeze, and East Liberty."
   ]
  },
  {
   "cell_type": "code",
   "execution_count": 35,
   "metadata": {},
   "outputs": [
    {
     "data": {
      "image/png": "[encoded data removed]",
      "text/plain": [
       "<Figure size 1080x720 with 1 Axes>"
      ]
     },
     "metadata": {
      "needs_background": "light"
     },
     "output_type": "display_data"
    }
   ],
   "source": [
    "percent_plt = df.iloc[:30].plot(kind='bar',x='neighborhood',y=\"percent_over_limit\",title=\"Speeders\",color='green',figsize=(15,10))\n"
   ]
  },
  {
   "cell_type": "code",
   "execution_count": null,
   "metadata": {},
   "outputs": [],
   "source": []
  }
 ],
 "metadata": {
  "kernelspec": {
   "display_name": "Python 3",
   "language": "python",
   "name": "python3"
  },
  "language_info": {
   "codemirror_mode": {
    "name": "ipython",
    "version": 3
   },
   "file_extension": ".py",
   "mimetype": "text/x-python",
   "name": "python",
   "nbconvert_exporter": "python",
   "pygments_lexer": "ipython3",
   "version": "3.8.3"
  }
 },
 "nbformat": 4,
 "nbformat_minor": 4
}
